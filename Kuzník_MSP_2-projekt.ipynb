{
 "cells": [
  {
   "cell_type": "markdown",
   "id": "ec6ab80e-5935-4ac3-ab01-9e539fb688ce",
   "metadata": {},
   "source": [
    "# MSP - 2. projekt \n",
    "\n",
    "Jakub Kuzník (xkuzni04@stud.fit.vutbr.cz)  \n",
    "Statistika a pravděpodobnost (MSP)  \n",
    "FIT VUT, 2023/2024  \n"
   ]
  },
  {
   "cell_type": "code",
   "execution_count": 12,
   "id": "6bfa43d2-742c-4f68-9d0e-3a4ce2d44733",
   "metadata": {},
   "outputs": [],
   "source": [
    "# Import knihoven\n",
    "import numpy as np\n",
    "import matplotlib.pyplot as plt\n",
    "from scipy.stats import poisson"
   ]
  },
  {
   "cell_type": "markdown",
   "id": "04c3abae-8642-448d-b4ef-bbd48bf01df3",
   "metadata": {},
   "source": [
    "## Bayesovské odhady - úloha 1\n",
    "\n",
    "### a) Konjugované apriorní a aposteriorní rozdělení, prediktivní rozdělení\n",
    "\n",
    "Předpokládáme, že počet připojení na internetovou síť za 1 ms je popsaný náhodnou veličinou s Poissonovým rozdělením s parametrem 𝜆, t.j. 𝑋~𝑃𝑜(𝜆).\n",
    "\n",
    "O parametru 𝜆 máme následující expertní odhad: každých 5 ms by mělo nastat 10 připojení. \n",
    "\n",
    "Pozorovali jsme připojení po dobu 100 ms. Pozorovaní o počtu připojení za každou 1 ms jsou uvedené v souboru measurements.csv ve sĺoupci „úloha_1 a)“.\n",
    "\n",
    "Vašim zadáním je z této expertní informace urči konjugované apriorní rozdělení k parametru Poissonova rozdělení a na základě pozorovaní určit aposteriorní rozdělení. Dále určete apriorní a aposteriorní prediktivní rozdělení pozorovaní. "
   ]
  },
  {
   "cell_type": "markdown",
   "id": "c851c6a4-ee19-49f6-99ee-afc17152f970",
   "metadata": {},
   "source": [
    "1) Do jednoho obrázku vykreslíte apriorní a aposteriorní hustotou parametru Poissonova rozdělení 𝜆."
   ]
  },
  {
   "cell_type": "code",
   "execution_count": 27,
   "id": "b038440d-0846-433d-a96c-58ffab82d2aa",
   "metadata": {},
   "outputs": [
    {
     "data": {
      "image/png": "[encoded data removed]",
      "text/plain": [
       "<Figure size 640x480 with 1 Axes>"
      ]
     },
     "metadata": {},
     "output_type": "display_data"
    }
   ],
   "source": [
    "# zvolme si lambdu \n",
    "l = 10 / 5\n",
    "\n",
    "# Vygenerujme rozumně velké pole hodnot osy x \n",
    "x_axis = np.arange(0, 8)\n",
    "\n",
    "# hustota pravědepodobnosti \n",
    "hustota_pst = poisson.pmf(x_axis, l)\n",
    "\n",
    "# Vykreslení grafů \n",
    "plt.bar(x_axis, hustota_pst, align='center', alpha=0.7)\n",
    "plt.title(r'Aprior $X \\sim \\mathrm{Po}(\\lambda=2)$', fontsize=16)\n",
    "plt.xlabel('Počet připojení')\n",
    "plt.ylabel('Probability')\n",
    "plt.show()\n",
    "\n",
    "# Na základě našich dat aktualizujeme apriorni pravděpodobnost na posteriorní pravděpodobnost \n"
   ]
  },
  {
   "cell_type": "markdown",
   "id": "2e57433a-9461-4b6b-84af-c423907cc7d9",
   "metadata": {},
   "source": [
    "2) Do jednoho obrázku vykreslíte apriorní a aposteriorní prediktivní hustotou pozorovaní 𝑥 za jeden časový interval."
   ]
  },
  {
   "cell_type": "code",
   "execution_count": null,
   "id": "a4adc31f-c00b-43c2-a9ea-afac21915755",
   "metadata": {},
   "outputs": [],
   "source": []
  },
  {
   "cell_type": "markdown",
   "id": "6cee0a8c-41cd-460e-83a8-e842c6ab6e9b",
   "metadata": {},
   "source": [
    "3) Sestrojte 95% interval spolehlivosti pro parametr 𝜆 z apriorního a aposteriorního rozdělení a porovnejte je."
   ]
  },
  {
   "cell_type": "code",
   "execution_count": null,
   "id": "1a70e046-a116-44ac-8b2e-2375db930ad1",
   "metadata": {},
   "outputs": [],
   "source": []
  },
  {
   "cell_type": "markdown",
   "id": "111890d3-7a2c-4951-bcbd-d523f1561c8a",
   "metadata": {},
   "source": [
    "4) Vyberte si dva aposteriorní bodové odhady parametru 𝜆, porovnejte je a okomentujte jejich výběr."
   ]
  },
  {
   "cell_type": "code",
   "execution_count": null,
   "id": "32d1b0fe-5db2-4b6f-9198-aee28610824b",
   "metadata": {},
   "outputs": [],
   "source": []
  },
  {
   "cell_type": "markdown",
   "id": "7594a9f4-f9ed-4cc3-91a7-1c2f570b5bbc",
   "metadata": {},
   "source": [
    "\n",
    "\n",
    "\n",
    "5) Vyberte si jeden apriorní a jeden aposteriorní bodový odhad počtu pozorovaní a\n",
    "porovnejte je. "
   ]
  },
  {
   "cell_type": "code",
   "execution_count": null,
   "id": "2925eec6-e6d9-4ec4-85b7-937ea8336e58",
   "metadata": {},
   "outputs": [],
   "source": []
  },
  {
   "cell_type": "markdown",
   "id": "b8e442a0-898c-4eeb-9021-b762db1187cc",
   "metadata": {},
   "source": [
    "### b) Aproximace diskrétním rozdělením\n",
    "\n",
    "Integrál ve jmenovateli Bayesově větě je ve většině praktických aplikací důvodem, proč nejsme schopní odvodit aposteriorní hustotu analyticky. Jeden ze způsobů, jak překonat tento problém a odhadnout parametru (ne vektor parametrů) je, že zvolíme diskrétní aproximaci a neřešitelný integrál přejde na sumu.\n",
    "\n",
    "Poznámka:\n",
    "Nyní řešíme odhad aposteriorní hustoty a paramertů v případě, že apriorní informace (hustota) je ve formě naměřených hodnot (sloupec „uloha_1 b)_prior“) a rozdělení procesu, který sledujete, je také ve tvaru naměřených hodnot (sloupec „uloha_1 b)_pozorovania“). Tedy místo zadání dvou hustot máme naměřené hodnoty a s pomocí tříděného statistického souboru odhadneme hustoty. Pak se plocha pod hustotou spočítá součtem četností (obdoba numerického počítání integrálu obdélníkovou metodou).\n",
    "\n",
    "Víme, že délka zpracování procesu v milisekundách ms má odseknuté normální rozdělení (truncated normal distribution) s parametry\n",
    "𝜇 = 3, 𝜎\n",
    "2 = 1, 𝑎 = 1\n",
    "\n",
    "Naší úlohou je odhadnout parametr 𝑏, t.j. maximální dobu trvání procesu. Máme historické záznamy o jeho délce trvání (sloupec „uloha 1 a)_prior“) na počítačích podobné výkonové řady. Provedli jsme sérii pozorovaní po 10, číslo série pozorovaní v tabulce v sloupci „skupina“. Z těchto záznamů vyjádříte apriorní informaci o parametru 𝑏.\n",
    "\n",
    "Ve sloupci „uloha_1 b)_pozorovania“ jsou naše pozorování délky trvání procesu Vyjádřete funkci věrohodnosti (sloupec „uloha_1 b)_pozorovania“) (v tomto případe také jen její diskrétní aproximace) a následně diskrétní aposteriorní hustotu."
   ]
  },
  {
   "cell_type": "markdown",
   "id": "33d41986-8883-44a6-b89f-d2b9eeabb558",
   "metadata": {},
   "source": [
    "1) Do jednoho grafu vykreslíte apriorní, aposteriorní hustotou a funkci věrohodnosti.\n",
    "Funkci věrohodnosti normujte tak, aby jej součet byl 1 kvůli porovnatelnosti\n",
    "v obrázku."
   ]
  },
  {
   "cell_type": "code",
   "execution_count": null,
   "id": "b2196e85-77ec-49f1-9d9c-d4e460a930ad",
   "metadata": {},
   "outputs": [],
   "source": []
  },
  {
   "cell_type": "markdown",
   "id": "097d7f6c-dd35-4b05-b524-157fedb427bb",
   "metadata": {},
   "source": [
    "2) Z aposteriorní hustoty určete 95% interval spolehlivosti (konfidenční interval) pro\n",
    "parametr 𝑏."
   ]
  },
  {
   "cell_type": "code",
   "execution_count": null,
   "id": "178fde30-e02d-4099-bf32-804abd589c7f",
   "metadata": {},
   "outputs": [],
   "source": []
  },
  {
   "cell_type": "markdown",
   "id": "065acac2-0be0-4d3b-a351-96262b056e89",
   "metadata": {},
   "source": [
    "3) Vyberte dva bodové odhady parametru 𝑏 a spočítejte je."
   ]
  },
  {
   "cell_type": "code",
   "execution_count": null,
   "id": "ad1297df-c872-4ed9-9d03-ab555242446e",
   "metadata": {},
   "outputs": [],
   "source": []
  },
  {
   "cell_type": "markdown",
   "id": "f14eb254-ae63-4357-b384-291194c5b9da",
   "metadata": {},
   "source": [
    "## Regrese - úloha 2"
   ]
  },
  {
   "cell_type": "markdown",
   "id": "3f897a7f-2a8e-42fd-a85f-32421a414dbd",
   "metadata": {},
   "source": [
    "Disclaimer: data (včetně „příběhu“) jsou vygenerovaná a nemusí mít dobrý obraz v realitě. Berte proto prosím výsledky z regrese s „rezervou“. Díky.\n",
    "\n",
    "Podařilo se Vám pomocí stroje času vrátit do doby „zlatého věku“ sociálních sítí a rozhodli jste se konkurovat Facebooku a Twitteru. V souboru Data_v1.0.csv máte k dispozici záznamy od více než 500 uživatelů o rychlosti odezvy (sloupec ping [ms]) během používání Vaší aplikace. Ke každému zápisu máte navíc k dispozici o počtu uživatelů (sloupec ActiveUsers) v daném okamžiku, o procentu uživatelů, kteří momentálně interagují s prezentovaným obsahem (sloupec InteractingPct), o procentu uživatelů, kteří jen tupě scrollují po Vaší obdobě timeline/twitterfeedu (sloupec ScrollingPct) a o operačním systému zařízení ze kterého se uživatel připojil (OSType)."
   ]
  },
  {
   "cell_type": "markdown",
   "id": "7ed6b994-d624-4af6-b7de-4fe5b10eb36e",
   "metadata": {},
   "source": [
    "1) Pomocí zpětné eliminace určete vhodný regresní model. Za výchozí „plný“ model\n",
    "považujte plný kvadratický model (všechny interakce druhého řádu a všechny druhé\n",
    "mocniny, které dávají smysl).\n",
    "- Zapište rovnici Vašeho finálního modelu.\n",
    "- Diskutujte splnění předpokladů lineární regrese a základní regresní\n",
    "diagnostiky.\n",
    "- Pokud (až během regresního modelování) identifikujete některé „extrémně\n",
    "odlehlé hodnoty“ můžete ty „nejodlehlejší“ hodnoty, po alespoň krátkém\n",
    "zdůvodnění, vyřadit."
   ]
  },
  {
   "cell_type": "code",
   "execution_count": null,
   "id": "b4656ff9-4f05-4e38-9c0b-c1e90b017522",
   "metadata": {},
   "outputs": [],
   "source": []
  },
  {
   "cell_type": "markdown",
   "id": "5f13d387-87a7-4c21-8702-fcee9c7befc9",
   "metadata": {},
   "source": [
    "2) Pomocí Vašeho výsledného modelu identifikujte, pro které nastavení parametrů má\n",
    "odezva nejproblematičtější hodnotu."
   ]
  },
  {
   "cell_type": "code",
   "execution_count": null,
   "id": "79caa962-fc6f-4e0f-bbab-29af15c21806",
   "metadata": {},
   "outputs": [],
   "source": []
  },
  {
   "cell_type": "markdown",
   "id": "ab66af2e-2da5-473e-bd00-f2ba5c05fe56",
   "metadata": {},
   "source": [
    "3) Odhadněte hodnotu odezvy uživatele s Windows, při průměrném nastavení ostatních\n",
    "parametrů a vypočtěte konfidenční interval a predikční interval pro toto nastavení."
   ]
  },
  {
   "cell_type": "code",
   "execution_count": null,
   "id": "f1eca8a5-9a8e-4cb0-af2a-50bba12a3ec8",
   "metadata": {},
   "outputs": [],
   "source": []
  },
  {
   "cell_type": "markdown",
   "id": "4f9a6636-b537-410c-bb0c-69868ace1704",
   "metadata": {},
   "source": [
    "4) Na základě jakýchkoli vypočtených charakteristik argumentujte, zdali je Váš model\n",
    "„vhodný“ pro další použití."
   ]
  },
  {
   "cell_type": "code",
   "execution_count": null,
   "id": "815c5d39-45c2-440c-9b3d-9040b085bf64",
   "metadata": {},
   "outputs": [],
   "source": []
  }
 ],
 "metadata": {
  "kernelspec": {
   "display_name": "msp-jupyter",
   "language": "python",
   "name": "msp-jupyter"
  },
  "language_info": {
   "codemirror_mode": {
    "name": "ipython",
    "version": 3
   },
   "file_extension": ".py",
   "mimetype": "text/x-python",
   "name": "python",
   "nbconvert_exporter": "python",
   "pygments_lexer": "ipython3",
   "version": "3.10.12"
  }
 },
 "nbformat": 4,
 "nbformat_minor": 5
}
